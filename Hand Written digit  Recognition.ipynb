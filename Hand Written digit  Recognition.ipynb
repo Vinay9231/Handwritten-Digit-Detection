{
 "cells": [
  {
   "cell_type": "code",
   "execution_count": 2,
   "id": "62ae8fe6",
   "metadata": {},
   "outputs": [
    {
     "name": "stdout",
     "output_type": "stream",
     "text": [
      "WARNING:tensorflow:From D:\\anaconda\\Project1\\env\\lib\\site-packages\\keras\\src\\losses.py:2976: The name tf.losses.sparse_softmax_cross_entropy is deprecated. Please use tf.compat.v1.losses.sparse_softmax_cross_entropy instead.\n",
      "\n"
     ]
    }
   ],
   "source": [
    "import tensorflow as tf\n",
    "from tensorflow.keras import layers,models\n",
    "from tensorflow.keras.datasets import mnist\n",
    "from tensorflow.keras.utils import to_categorical"
   ]
  },
  {
   "cell_type": "code",
   "execution_count": 3,
   "id": "05a75481",
   "metadata": {},
   "outputs": [
    {
     "name": "stdout",
     "output_type": "stream",
     "text": [
      "Requirement already satisfied: opencv_python in d:\\anaconda\\project1\\env\\lib\\site-packages (4.9.0.80)Note: you may need to restart the kernel to use updated packages.\n",
      "\n",
      "Requirement already satisfied: numpy>=1.21.2 in d:\\anaconda\\project1\\env\\lib\\site-packages (from opencv_python) (1.26.0)\n"
     ]
    }
   ],
   "source": [
    "pip install opencv_python"
   ]
  },
  {
   "cell_type": "code",
   "execution_count": 4,
   "id": "928ceaaf",
   "metadata": {},
   "outputs": [],
   "source": [
    "import cv2\n",
    "import numpy as np\n",
    "import matplotlib.pyplot as plt"
   ]
  },
  {
   "cell_type": "code",
   "execution_count": 5,
   "id": "77ec3bc6",
   "metadata": {},
   "outputs": [],
   "source": [
    "#load and preprocess  the mnist dataset\n",
    "(train_images,train_labels),(test_images,test_labels)=mnist.load_data()"
   ]
  },
  {
   "cell_type": "code",
   "execution_count": 6,
   "id": "522e8078",
   "metadata": {},
   "outputs": [
    {
     "data": {
      "text/plain": [
       "(60000, 60000)"
      ]
     },
     "execution_count": 6,
     "metadata": {},
     "output_type": "execute_result"
    }
   ],
   "source": [
    "len(train_images),len(train_labels)"
   ]
  },
  {
   "cell_type": "code",
   "execution_count": 7,
   "id": "9fff4d83",
   "metadata": {},
   "outputs": [
    {
     "data": {
      "text/plain": [
       "array([[[0, 0, 0, ..., 0, 0, 0],\n",
       "        [0, 0, 0, ..., 0, 0, 0],\n",
       "        [0, 0, 0, ..., 0, 0, 0],\n",
       "        ...,\n",
       "        [0, 0, 0, ..., 0, 0, 0],\n",
       "        [0, 0, 0, ..., 0, 0, 0],\n",
       "        [0, 0, 0, ..., 0, 0, 0]],\n",
       "\n",
       "       [[0, 0, 0, ..., 0, 0, 0],\n",
       "        [0, 0, 0, ..., 0, 0, 0],\n",
       "        [0, 0, 0, ..., 0, 0, 0],\n",
       "        ...,\n",
       "        [0, 0, 0, ..., 0, 0, 0],\n",
       "        [0, 0, 0, ..., 0, 0, 0],\n",
       "        [0, 0, 0, ..., 0, 0, 0]],\n",
       "\n",
       "       [[0, 0, 0, ..., 0, 0, 0],\n",
       "        [0, 0, 0, ..., 0, 0, 0],\n",
       "        [0, 0, 0, ..., 0, 0, 0],\n",
       "        ...,\n",
       "        [0, 0, 0, ..., 0, 0, 0],\n",
       "        [0, 0, 0, ..., 0, 0, 0],\n",
       "        [0, 0, 0, ..., 0, 0, 0]],\n",
       "\n",
       "       [[0, 0, 0, ..., 0, 0, 0],\n",
       "        [0, 0, 0, ..., 0, 0, 0],\n",
       "        [0, 0, 0, ..., 0, 0, 0],\n",
       "        ...,\n",
       "        [0, 0, 0, ..., 0, 0, 0],\n",
       "        [0, 0, 0, ..., 0, 0, 0],\n",
       "        [0, 0, 0, ..., 0, 0, 0]],\n",
       "\n",
       "       [[0, 0, 0, ..., 0, 0, 0],\n",
       "        [0, 0, 0, ..., 0, 0, 0],\n",
       "        [0, 0, 0, ..., 0, 0, 0],\n",
       "        ...,\n",
       "        [0, 0, 0, ..., 0, 0, 0],\n",
       "        [0, 0, 0, ..., 0, 0, 0],\n",
       "        [0, 0, 0, ..., 0, 0, 0]]], dtype=uint8)"
      ]
     },
     "execution_count": 7,
     "metadata": {},
     "output_type": "execute_result"
    }
   ],
   "source": [
    "train_images[:5]"
   ]
  },
  {
   "cell_type": "code",
   "execution_count": 8,
   "id": "262ac1e3",
   "metadata": {},
   "outputs": [
    {
     "data": {
      "text/plain": [
       "array([5, 0, 4, 1, 9], dtype=uint8)"
      ]
     },
     "execution_count": 8,
     "metadata": {},
     "output_type": "execute_result"
    }
   ],
   "source": [
    "train_labels[:5]"
   ]
  },
  {
   "cell_type": "code",
   "execution_count": 9,
   "id": "7ff74ebe",
   "metadata": {},
   "outputs": [
    {
     "data": {
      "text/plain": [
       "(28, 28)"
      ]
     },
     "execution_count": 9,
     "metadata": {},
     "output_type": "execute_result"
    }
   ],
   "source": [
    "train_images[0].shape"
   ]
  },
  {
   "cell_type": "code",
   "execution_count": 10,
   "id": "4e68020c",
   "metadata": {},
   "outputs": [
    {
     "data": {
      "image/png": "[encoded data removed]",
      "text/plain": [
       "<Figure size 640x480 with 5 Axes>"
      ]
     },
     "metadata": {},
     "output_type": "display_data"
    }
   ],
   "source": [
    "# display the train sample images\n",
    "\n",
    "num_samples_to_display=5\n",
    "\n",
    "for i in range(num_samples_to_display):\n",
    "    plt.subplot(1,num_samples_to_display,i+1)\n",
    "    plt.imshow(train_images[i],cmap='gray')\n",
    "    plt.title(f\"Image:{train_labels[i]}\")\n",
    "    plt.axis(\"off\")\n",
    "    \n",
    "plt.show()"
   ]
  },
  {
   "cell_type": "code",
   "execution_count": 11,
   "id": "7be2eeaf",
   "metadata": {},
   "outputs": [
    {
     "data": {
      "image/png": "[encoded data removed]",
      "text/plain": [
       "<Figure size 640x480 with 5 Axes>"
      ]
     },
     "metadata": {},
     "output_type": "display_data"
    }
   ],
   "source": [
    "# display the train sample i ages\n",
    "\n",
    "num_samples_to_display=5\n",
    "\n",
    "for i in range(num_samples_to_display):\n",
    "    plt.subplot(1,num_samples_to_display,i+1)\n",
    "    plt.imshow(test_images[i],cmap='gray')\n",
    "    plt.title(f\"Image:{test_labels[i]}\")\n",
    "    plt.axis(\"off\")"
   ]
  },
  {
   "cell_type": "code",
   "execution_count": 12,
   "id": "6595244b",
   "metadata": {},
   "outputs": [],
   "source": [
    "def showImages (images,labels):\n",
    "    i=1\n",
    "    for img,lab in zip(images,labels):\n",
    "        plt.subplot(1,len(labels),i)\n",
    "        plt.imshow(img,cmap='gray')\n",
    "        plt.title(f\"Image:{lab}\")\n",
    "        plt.axis(\"off\")\n",
    "        i=i+1\n",
    "plt.show()"
   ]
  },
  {
   "cell_type": "code",
   "execution_count": 13,
   "id": "fa039224",
   "metadata": {},
   "outputs": [
    {
     "data": {
      "image/png": "[encoded data removed]",
      "text/plain": [
       "<Figure size 640x480 with 5 Axes>"
      ]
     },
     "metadata": {},
     "output_type": "display_data"
    }
   ],
   "source": [
    "showImages(train_images[0:5],train_labels[0:5])"
   ]
  },
  {
   "cell_type": "code",
   "execution_count": 14,
   "id": "e989bb52",
   "metadata": {},
   "outputs": [],
   "source": [
    "# scaling images i.e converting color images to grayscale images\n",
    "train_images=train_images/255\n",
    "test_images=test_images/255"
   ]
  },
  {
   "cell_type": "code",
   "execution_count": 15,
   "id": "eeee5814",
   "metadata": {},
   "outputs": [],
   "source": [
    "# covert 2-d matrix to a 1-d array\n",
    "train_images=train_images.reshape(-1,28,28,1) #training set\n",
    "test_images=test_images.reshape(-1,28,28,1) #test set"
   ]
  },
  {
   "cell_type": "code",
   "execution_count": 16,
   "id": "35ac40fa",
   "metadata": {},
   "outputs": [
    {
     "data": {
      "text/plain": [
       "array([[[[0.],\n",
       "         [0.],\n",
       "         [0.],\n",
       "         ...,\n",
       "         [0.],\n",
       "         [0.],\n",
       "         [0.]],\n",
       "\n",
       "        [[0.],\n",
       "         [0.],\n",
       "         [0.],\n",
       "         ...,\n",
       "         [0.],\n",
       "         [0.],\n",
       "         [0.]],\n",
       "\n",
       "        [[0.],\n",
       "         [0.],\n",
       "         [0.],\n",
       "         ...,\n",
       "         [0.],\n",
       "         [0.],\n",
       "         [0.]],\n",
       "\n",
       "        ...,\n",
       "\n",
       "        [[0.],\n",
       "         [0.],\n",
       "         [0.],\n",
       "         ...,\n",
       "         [0.],\n",
       "         [0.],\n",
       "         [0.]],\n",
       "\n",
       "        [[0.],\n",
       "         [0.],\n",
       "         [0.],\n",
       "         ...,\n",
       "         [0.],\n",
       "         [0.],\n",
       "         [0.]],\n",
       "\n",
       "        [[0.],\n",
       "         [0.],\n",
       "         [0.],\n",
       "         ...,\n",
       "         [0.],\n",
       "         [0.],\n",
       "         [0.]]],\n",
       "\n",
       "\n",
       "       [[[0.],\n",
       "         [0.],\n",
       "         [0.],\n",
       "         ...,\n",
       "         [0.],\n",
       "         [0.],\n",
       "         [0.]],\n",
       "\n",
       "        [[0.],\n",
       "         [0.],\n",
       "         [0.],\n",
       "         ...,\n",
       "         [0.],\n",
       "         [0.],\n",
       "         [0.]],\n",
       "\n",
       "        [[0.],\n",
       "         [0.],\n",
       "         [0.],\n",
       "         ...,\n",
       "         [0.],\n",
       "         [0.],\n",
       "         [0.]],\n",
       "\n",
       "        ...,\n",
       "\n",
       "        [[0.],\n",
       "         [0.],\n",
       "         [0.],\n",
       "         ...,\n",
       "         [0.],\n",
       "         [0.],\n",
       "         [0.]],\n",
       "\n",
       "        [[0.],\n",
       "         [0.],\n",
       "         [0.],\n",
       "         ...,\n",
       "         [0.],\n",
       "         [0.],\n",
       "         [0.]],\n",
       "\n",
       "        [[0.],\n",
       "         [0.],\n",
       "         [0.],\n",
       "         ...,\n",
       "         [0.],\n",
       "         [0.],\n",
       "         [0.]]],\n",
       "\n",
       "\n",
       "       [[[0.],\n",
       "         [0.],\n",
       "         [0.],\n",
       "         ...,\n",
       "         [0.],\n",
       "         [0.],\n",
       "         [0.]],\n",
       "\n",
       "        [[0.],\n",
       "         [0.],\n",
       "         [0.],\n",
       "         ...,\n",
       "         [0.],\n",
       "         [0.],\n",
       "         [0.]],\n",
       "\n",
       "        [[0.],\n",
       "         [0.],\n",
       "         [0.],\n",
       "         ...,\n",
       "         [0.],\n",
       "         [0.],\n",
       "         [0.]],\n",
       "\n",
       "        ...,\n",
       "\n",
       "        [[0.],\n",
       "         [0.],\n",
       "         [0.],\n",
       "         ...,\n",
       "         [0.],\n",
       "         [0.],\n",
       "         [0.]],\n",
       "\n",
       "        [[0.],\n",
       "         [0.],\n",
       "         [0.],\n",
       "         ...,\n",
       "         [0.],\n",
       "         [0.],\n",
       "         [0.]],\n",
       "\n",
       "        [[0.],\n",
       "         [0.],\n",
       "         [0.],\n",
       "         ...,\n",
       "         [0.],\n",
       "         [0.],\n",
       "         [0.]]]])"
      ]
     },
     "execution_count": 16,
     "metadata": {},
     "output_type": "execute_result"
    }
   ],
   "source": [
    "train_images[0:3]"
   ]
  },
  {
   "cell_type": "code",
   "execution_count": 17,
   "id": "2e25c88e",
   "metadata": {},
   "outputs": [
    {
     "name": "stdout",
     "output_type": "stream",
     "text": [
      "WARNING:tensorflow:From D:\\anaconda\\Project1\\env\\lib\\site-packages\\keras\\src\\backend.py:873: The name tf.get_default_graph is deprecated. Please use tf.compat.v1.get_default_graph instead.\n",
      "\n",
      "WARNING:tensorflow:From D:\\anaconda\\Project1\\env\\lib\\site-packages\\keras\\src\\layers\\pooling\\max_pooling2d.py:161: The name tf.nn.max_pool is deprecated. Please use tf.nn.max_pool2d instead.\n",
      "\n"
     ]
    }
   ],
   "source": [
    "#build the cnn model\n",
    "\n",
    "model = models.Sequential([\n",
    "    layers.Conv2D(filters=25,kernel_size=(3,3),activation='relu',input_shape=(28,28,1)),\n",
    "    layers.MaxPooling2D((2,2)),\n",
    "    \n",
    "    layers.Conv2D(filters=25,kernel_size=(3,3),activation='relu'),\n",
    "    layers.MaxPooling2D((2,2)),\n",
    "    \n",
    "    layers.Conv2D(filters=25,kernel_size=(3,3),activation='relu'),\n",
    "    layers.MaxPooling2D((2,2)),\n",
    "    \n",
    "    layers.Flatten(),\n",
    "    layers.Dense(64,activation='relu'),\n",
    "    layers.Dense(10,activation='softmax')\n",
    "])"
   ]
  },
  {
   "cell_type": "code",
   "execution_count": 18,
   "id": "c8e34eb2",
   "metadata": {},
   "outputs": [
    {
     "name": "stdout",
     "output_type": "stream",
     "text": [
      "WARNING:tensorflow:From D:\\anaconda\\Project1\\env\\lib\\site-packages\\keras\\src\\optimizers\\__init__.py:309: The name tf.train.Optimizer is deprecated. Please use tf.compat.v1.train.Optimizer instead.\n",
      "\n"
     ]
    }
   ],
   "source": [
    "#compile the model\n",
    "model.compile(optimizer='adam',\n",
    "             loss='sparse_categorical_crossentropy',\n",
    "             metrics=['accuracy'])"
   ]
  },
  {
   "cell_type": "code",
   "execution_count": 19,
   "id": "11942f8d",
   "metadata": {},
   "outputs": [
    {
     "name": "stdout",
     "output_type": "stream",
     "text": [
      "Epoch 1/10\n",
      "WARNING:tensorflow:From D:\\anaconda\\Project1\\env\\lib\\site-packages\\keras\\src\\utils\\tf_utils.py:492: The name tf.ragged.RaggedTensorValue is deprecated. Please use tf.compat.v1.ragged.RaggedTensorValue instead.\n",
      "\n",
      "WARNING:tensorflow:From D:\\anaconda\\Project1\\env\\lib\\site-packages\\keras\\src\\engine\\base_layer_utils.py:384: The name tf.executing_eagerly_outside_functions is deprecated. Please use tf.compat.v1.executing_eagerly_outside_functions instead.\n",
      "\n",
      "750/750 [==============================] - 19s 18ms/step - loss: 0.4156 - accuracy: 0.8743 - val_loss: 0.1634 - val_accuracy: 0.9491\n",
      "Epoch 2/10\n",
      "750/750 [==============================] - 14s 19ms/step - loss: 0.1445 - accuracy: 0.9551 - val_loss: 0.1278 - val_accuracy: 0.9619\n",
      "Epoch 3/10\n",
      "750/750 [==============================] - 13s 17ms/step - loss: 0.1071 - accuracy: 0.9664 - val_loss: 0.0924 - val_accuracy: 0.9733\n",
      "Epoch 4/10\n",
      "750/750 [==============================] - 12s 16ms/step - loss: 0.0866 - accuracy: 0.9732 - val_loss: 0.0829 - val_accuracy: 0.9747\n",
      "Epoch 5/10\n",
      "750/750 [==============================] - 12s 17ms/step - loss: 0.0770 - accuracy: 0.9754 - val_loss: 0.0747 - val_accuracy: 0.9772\n",
      "Epoch 6/10\n",
      "750/750 [==============================] - 13s 17ms/step - loss: 0.0671 - accuracy: 0.9784 - val_loss: 0.0712 - val_accuracy: 0.9794\n",
      "Epoch 7/10\n",
      "750/750 [==============================] - 12s 16ms/step - loss: 0.0586 - accuracy: 0.9814 - val_loss: 0.0807 - val_accuracy: 0.9758\n",
      "Epoch 8/10\n",
      "750/750 [==============================] - 12s 16ms/step - loss: 0.0559 - accuracy: 0.9825 - val_loss: 0.0891 - val_accuracy: 0.9740\n",
      "Epoch 9/10\n",
      "750/750 [==============================] - 13s 17ms/step - loss: 0.0483 - accuracy: 0.9846 - val_loss: 0.0624 - val_accuracy: 0.9822\n",
      "Epoch 10/10\n",
      "750/750 [==============================] - 12s 17ms/step - loss: 0.0452 - accuracy: 0.9856 - val_loss: 0.0684 - val_accuracy: 0.9800\n"
     ]
    },
    {
     "data": {
      "text/plain": [
       "<keras.src.callbacks.History at 0x1e2464196f0>"
      ]
     },
     "execution_count": 19,
     "metadata": {},
     "output_type": "execute_result"
    }
   ],
   "source": [
    "# Train the model\n",
    "\n",
    "model.fit(train_images,train_labels,epochs=10,batch_size=64,validation_split=0.2)"
   ]
  },
  {
   "cell_type": "code",
   "execution_count": 20,
   "id": "75b7315a",
   "metadata": {},
   "outputs": [
    {
     "name": "stdout",
     "output_type": "stream",
     "text": [
      "1875/1875 [==============================] - 14s 8ms/step - loss: 0.0451 - accuracy: 0.9862\n",
      "Test Accuracy:0.9861833453178406\n"
     ]
    }
   ],
   "source": [
    "#Evaluate the model on the train set\n",
    "\n",
    "test_loss,test_acc = model.evaluate(train_images,train_labels)\n",
    "print(f\"Test Accuracy:{test_acc}\" )"
   ]
  },
  {
   "cell_type": "code",
   "execution_count": 21,
   "id": "5bf8ce24",
   "metadata": {},
   "outputs": [
    {
     "name": "stdout",
     "output_type": "stream",
     "text": [
      "313/313 [==============================] - 2s 7ms/step - loss: 0.0681 - accuracy: 0.9794\n"
     ]
    },
    {
     "data": {
      "text/plain": [
       "[0.06810826063156128, 0.9793999791145325]"
      ]
     },
     "execution_count": 21,
     "metadata": {},
     "output_type": "execute_result"
    }
   ],
   "source": [
    "model.evaluate(test_images,test_labels)\n"
   ]
  },
  {
   "cell_type": "code",
   "execution_count": 22,
   "id": "077fac88",
   "metadata": {},
   "outputs": [
    {
     "name": "stderr",
     "output_type": "stream",
     "text": [
      "D:\\anaconda\\Project1\\env\\lib\\site-packages\\keras\\src\\engine\\training.py:3103: UserWarning: You are saving your model as an HDF5 file via `model.save()`. This file format is considered legacy. We recommend using instead the native Keras format, e.g. `model.save('my_model.keras')`.\n",
      "  saving_api.save_model(\n"
     ]
    }
   ],
   "source": [
    "#save the traind model\n",
    "\n",
    "model.save('digit_recognition_model.h5')"
   ]
  },
  {
   "cell_type": "code",
   "execution_count": 23,
   "id": "4b6329c4",
   "metadata": {},
   "outputs": [],
   "source": [
    "model=tf.keras.models.load_model('digit_recognition_model.h5')"
   ]
  },
  {
   "cell_type": "code",
   "execution_count": 24,
   "id": "2db81414",
   "metadata": {},
   "outputs": [
    {
     "name": "stdout",
     "output_type": "stream",
     "text": [
      "313/313 [==============================] - 3s 9ms/step\n"
     ]
    }
   ],
   "source": [
    "y_predict=model.predict(test_images)"
   ]
  },
  {
   "cell_type": "code",
   "execution_count": 25,
   "id": "45b89237",
   "metadata": {},
   "outputs": [
    {
     "data": {
      "text/plain": [
       "array([8.0468894e-09, 1.8981165e-05, 1.6647614e-04, 5.1888818e-04,\n",
       "       9.2234592e-10, 1.3740550e-06, 3.9382104e-12, 9.9924040e-01,\n",
       "       6.2027260e-07, 5.3256586e-05], dtype=float32)"
      ]
     },
     "execution_count": 25,
     "metadata": {},
     "output_type": "execute_result"
    }
   ],
   "source": [
    "y_predict[0]"
   ]
  },
  {
   "cell_type": "code",
   "execution_count": 26,
   "id": "653c9bc3",
   "metadata": {},
   "outputs": [
    {
     "data": {
      "text/plain": [
       "7"
      ]
     },
     "execution_count": 26,
     "metadata": {},
     "output_type": "execute_result"
    }
   ],
   "source": [
    "np.argmax(y_predict[0])"
   ]
  },
  {
   "cell_type": "code",
   "execution_count": 27,
   "id": "1a171119",
   "metadata": {},
   "outputs": [
    {
     "data": {
      "text/plain": [
       "2"
      ]
     },
     "execution_count": 27,
     "metadata": {},
     "output_type": "execute_result"
    }
   ],
   "source": [
    "np.argmax(y_predict[1])"
   ]
  },
  {
   "cell_type": "code",
   "execution_count": 28,
   "id": "88f67fbf",
   "metadata": {},
   "outputs": [
    {
     "data": {
      "image/png": "[encoded data removed]",
      "text/plain": [
       "<Figure size 640x480 with 5 Axes>"
      ]
     },
     "metadata": {},
     "output_type": "display_data"
    }
   ],
   "source": [
    "#display some images\n",
    "num_sample_to_display=5\n",
    "for i in range(num_sample_to_display):\n",
    "    plt.subplot(1,num_samples_to_display,i+1)\n",
    "    plt.imshow(test_images[i],cmap='gray')\n",
    "    plt.title(f\"Image:{test_labels[i]}\")\n",
    "    plt.axis(\"off\")"
   ]
  },
  {
   "cell_type": "code",
   "execution_count": 29,
   "id": "31991cb7",
   "metadata": {},
   "outputs": [],
   "source": [
    "#function to preprocess image the input image i.e it takes image path and returns as numeric matrix\n",
    "def preprocess_image(image_path):\n",
    "    #load the image and convert it into grayscale \n",
    "    img=cv2.imread(image_path,cv2.IMREAD_GRAYSCALE)\n",
    "    \n",
    "    #Resize the image to match the input size of the model\n",
    "    img = cv2.resize(img,(28,28))\n",
    "    \n",
    "    #Normalize the pixel values to be between o and 1\n",
    "    img=img/255.0\n",
    "    \n",
    "    #Reshape the image to match the input shape of the model\n",
    "    img=np.reshape(img,(1,28,28,1))\n",
    "    return img"
   ]
  },
  {
   "cell_type": "code",
   "execution_count": 30,
   "id": "1a0a10b8",
   "metadata": {},
   "outputs": [],
   "source": [
    "# function to make predictions on the input image\n",
    "\n",
    "def predict_image(model,image_path):\n",
    "    # preprocess the input image\n",
    "    processed_image=preprocess_image(image_path)\n",
    "    \n",
    "    #Make predictions using the model\n",
    "    predictions=model.predict(processed_image)\n",
    "    \n",
    "    # Get the index of the class with the highest probability\n",
    "    predicted_class=np.argmax(predictions)\n",
    "    \n",
    "    return predicted_class"
   ]
  },
  {
   "cell_type": "code",
   "execution_count": 31,
   "id": "704608d2",
   "metadata": {},
   "outputs": [],
   "source": [
    "# function to display the image\n",
    "def show_image(image_path):\n",
    "    img=cv2.imread(image_path)\n",
    "    plt.imshow(cv2.cvtColor(img,cv2.COLOR_BGR2RGB))\n",
    "    plt.axis('off')\n",
    "    plt.show()"
   ]
  },
  {
   "cell_type": "code",
   "execution_count": 32,
   "id": "2ad362df",
   "metadata": {},
   "outputs": [],
   "source": [
    "# load the trained CNN Model\n",
    "from tensorflow.keras.models import load_model\n",
    "model=load_model('digit_recognition_model.H5')\n",
    "\n",
    "\n",
    "\n"
   ]
  },
  {
   "cell_type": "code",
   "execution_count": 33,
   "id": "ec71bc61",
   "metadata": {},
   "outputs": [],
   "source": [
    "#image_path= \".\\datasets\\img1.png \"\n",
    "image_path= \".\\datasets\\img5.png \""
   ]
  },
  {
   "cell_type": "code",
   "execution_count": 34,
   "id": "aab7637d",
   "metadata": {},
   "outputs": [
    {
     "data": {
      "image/png": "[encoded data removed]",
      "text/plain": [
       "<Figure size 640x480 with 1 Axes>"
      ]
     },
     "metadata": {},
     "output_type": "display_data"
    }
   ],
   "source": [
    "show_image(image_path)"
   ]
  },
  {
   "cell_type": "code",
   "execution_count": 35,
   "id": "251253b4",
   "metadata": {},
   "outputs": [
    {
     "data": {
      "text/plain": [
       "array([[[0, 0, 0],\n",
       "        [0, 0, 0],\n",
       "        [0, 0, 0],\n",
       "        ...,\n",
       "        [0, 0, 0],\n",
       "        [0, 0, 0],\n",
       "        [0, 0, 0]],\n",
       "\n",
       "       [[0, 0, 0],\n",
       "        [0, 0, 0],\n",
       "        [0, 0, 0],\n",
       "        ...,\n",
       "        [0, 0, 0],\n",
       "        [0, 0, 0],\n",
       "        [0, 0, 0]],\n",
       "\n",
       "       [[0, 0, 0],\n",
       "        [0, 0, 0],\n",
       "        [0, 0, 0],\n",
       "        ...,\n",
       "        [0, 0, 0],\n",
       "        [0, 0, 0],\n",
       "        [0, 0, 0]],\n",
       "\n",
       "       ...,\n",
       "\n",
       "       [[0, 0, 0],\n",
       "        [0, 0, 0],\n",
       "        [0, 0, 0],\n",
       "        ...,\n",
       "        [0, 0, 0],\n",
       "        [0, 0, 0],\n",
       "        [0, 0, 0]],\n",
       "\n",
       "       [[0, 0, 0],\n",
       "        [0, 0, 0],\n",
       "        [0, 0, 0],\n",
       "        ...,\n",
       "        [0, 0, 0],\n",
       "        [0, 0, 0],\n",
       "        [0, 0, 0]],\n",
       "\n",
       "       [[0, 0, 0],\n",
       "        [0, 0, 0],\n",
       "        [0, 0, 0],\n",
       "        ...,\n",
       "        [0, 0, 0],\n",
       "        [0, 0, 0],\n",
       "        [0, 0, 0]]], dtype=uint8)"
      ]
     },
     "execution_count": 35,
     "metadata": {},
     "output_type": "execute_result"
    }
   ],
   "source": [
    "#Read the image\n",
    "image=cv2.imread(image_path)\n",
    "img1=np.array(image)\n",
    "img1"
   ]
  },
  {
   "cell_type": "code",
   "execution_count": 36,
   "id": "c4d28b0b",
   "metadata": {},
   "outputs": [
    {
     "name": "stdout",
     "output_type": "stream",
     "text": [
      "1/1 [==============================] - 0s 266ms/step\n"
     ]
    }
   ],
   "source": [
    "#Make a prediction on the custom_image\n",
    "predict_label=predict_image(model,image_path)\n"
   ]
  },
  {
   "cell_type": "code",
   "execution_count": 37,
   "id": "5de60d80",
   "metadata": {},
   "outputs": [
    {
     "data": {
      "text/plain": [
       "3"
      ]
     },
     "execution_count": 37,
     "metadata": {},
     "output_type": "execute_result"
    }
   ],
   "source": [
    "predict_label"
   ]
  },
  {
   "cell_type": "code",
   "execution_count": 38,
   "id": "4b500651",
   "metadata": {
    "scrolled": true
   },
   "outputs": [
    {
     "data": {
      "image/png": "[encoded data removed]",
      "text/plain": [
       "<Figure size 640x480 with 1 Axes>"
      ]
     },
     "metadata": {},
     "output_type": "display_data"
    }
   ],
   "source": [
    "image_path= \".\\datasets\\img3.png\"\n",
    "show_image(image_path)"
   ]
  },
  {
   "cell_type": "code",
   "execution_count": 39,
   "id": "0aa537f1",
   "metadata": {},
   "outputs": [],
   "source": [
    "# Function to display the image with bounding boxes around digits\n",
    "def show_image_with_boxes(image_path, boxes):\n",
    "    img = cv2.imread(image_path)\n",
    "    \n",
    "    for box in boxes:\n",
    "        x, y, w, h = box\n",
    "        cv2.rectangle(img, (x, y), (x + w, y + h), (0, 255, 0), 2)\n",
    "\n",
    "    plt.imshow(cv2.cvtColor(img, cv2.COLOR_BGR2RGB))\n",
    "    plt.axis('off')\n",
    "plt.show()"
   ]
  },
  {
   "cell_type": "code",
   "execution_count": 40,
   "id": "303c1620",
   "metadata": {},
   "outputs": [],
   "source": [
    "# Load the image\n",
    "img = cv2.imread(image_path)\n",
    "gray = cv2.cvtColor(img, cv2.COLOR_BGR2GRAY)"
   ]
  },
  {
   "cell_type": "code",
   "execution_count": 41,
   "id": "5b5d7598",
   "metadata": {},
   "outputs": [],
   "source": [
    "# Apply thresholding or other pre-processing techniques to highlight digits\n",
    "# (You may need to experiment with this based on your specific images)\n",
    "_, thresh = cv2.threshold(gray, 128, 255, cv2.THRESH_BINARY_INV)"
   ]
  },
  {
   "cell_type": "code",
   "execution_count": 42,
   "id": "9456f0aa",
   "metadata": {},
   "outputs": [],
   "source": [
    "# Find contours in the image\n",
    "contours, _ = cv2.findContours(thresh, cv2.RETR_EXTERNAL, cv2.CHAIN_APPROX_SIMPLE)"
   ]
  },
  {
   "cell_type": "code",
   "execution_count": 43,
   "id": "dbcf2830",
   "metadata": {},
   "outputs": [],
   "source": [
    "# List to store bounding boxes of digits\n",
    "digit_boxes = []\n",
    "\n",
    "for contour in contours:\n",
    "    x, y, w, h = cv2.boundingRect(contour)\n",
    "    \n",
    "    # Filter out small contours, adjust this threshold based on your images\n",
    "    if w > 5 and h > 5:\n",
    "        digit_boxes.append((x, y, w, h))"
   ]
  },
  {
   "cell_type": "code",
   "execution_count": 44,
   "id": "bd67f824",
   "metadata": {},
   "outputs": [
    {
     "data": {
      "image/png": "[encoded data removed]",
      "text/plain": [
       "<Figure size 640x480 with 1 Axes>"
      ]
     },
     "metadata": {},
     "output_type": "display_data"
    }
   ],
   "source": [
    "# Show the image with bounding boxes around detected digits\n",
    "show_image_with_boxes(image_path, digit_boxes)"
   ]
  },
  {
   "cell_type": "code",
   "execution_count": 45,
   "id": "6eead0bb",
   "metadata": {},
   "outputs": [],
   "source": [
    "from gtts import gTTS\n",
    "import os\n",
    "\n",
    "def text_to_speech(text, language='en', filename='output.mp3'):\n",
    "    # Create a gTTS object\n",
    "    tts = gTTS(text=text, lang=language, slow=False)\n",
    "\n",
    "    # Save the speech as an MP3 File\n",
    "    tts.save(filename)\n",
    "\n",
    "    # Play the generated speech\n",
    "    os.system(f'start {filename}')"
   ]
  },
  {
   "cell_type": "code",
   "execution_count": 49,
   "id": "ff193a22",
   "metadata": {},
   "outputs": [
    {
     "name": "stdout",
     "output_type": "stream",
     "text": [
      "1/1 [==============================] - 0s 66ms/step\n",
      "The handwritten number in the ROI is predicted to be: 2\n",
      "1/1 [==============================] - 0s 56ms/step\n",
      "The handwritten number in the ROI is predicted to be: 2\n",
      "1/1 [==============================] - 0s 56ms/step\n",
      "The handwritten number in the ROI is predicted to be: 2\n",
      "1/1 [==============================] - 0s 72ms/step\n",
      "The handwritten number in the ROI is predicted to be: 2\n"
     ]
    }
   ],
   "source": [
    "# Make predictions for each digit\n",
    "i=0\n",
    "speech = \"Predicted Numbers are\"\n",
    "\n",
    "for box in digit_boxes:\n",
    "    i=i+1\n",
    "    x, y, w, h = box\n",
    "    roi = img[y:y+h, x:x+w]\n",
    "    roi_path = f'digit_roi_{i}.jpg'  # You may want to save each digit as a separate image\n",
    "    cv2.imwrite(roi_path, roi)\n",
    "    predict_label = predict_image(model, roi_path)\n",
    "    print(f'The handwritten number in the ROI is predicted to be: {predict_label}')\n",
    "    speech=speech+ str(predict_label)+\" , \"\n",
    "    \n",
    "#text_to_speech('f{speech}{predict_label}')\n",
    "text_to_speech(text = speech )"
   ]
  },
  {
   "cell_type": "code",
   "execution_count": null,
   "id": "222c42d4",
   "metadata": {},
   "outputs": [],
   "source": []
  },
  {
   "cell_type": "code",
   "execution_count": null,
   "id": "75e78f80",
   "metadata": {},
   "outputs": [],
   "source": []
  },
  {
   "cell_type": "code",
   "execution_count": null,
   "id": "cb0b98e4",
   "metadata": {},
   "outputs": [],
   "source": []
  },
  {
   "cell_type": "code",
   "execution_count": null,
   "id": "f5b75d2c",
   "metadata": {},
   "outputs": [],
   "source": []
  }
 ],
 "metadata": {
  "kernelspec": {
   "display_name": "Python 3 (ipykernel)",
   "language": "python",
   "name": "python3"
  },
  "language_info": {
   "codemirror_mode": {
    "name": "ipython",
    "version": 3
   },
   "file_extension": ".py",
   "mimetype": "text/x-python",
   "name": "python",
   "nbconvert_exporter": "python",
   "pygments_lexer": "ipython3",
   "version": "3.10.13"
  }
 },
 "nbformat": 4,
 "nbformat_minor": 5
}
